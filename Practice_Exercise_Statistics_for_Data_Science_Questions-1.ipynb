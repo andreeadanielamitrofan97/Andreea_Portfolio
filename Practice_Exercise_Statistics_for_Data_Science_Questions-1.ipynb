{
 "cells": [
  {
   "cell_type": "markdown",
   "metadata": {
    "id": "XeV1U7GkVNZY"
   },
   "source": [
    "## Importing necessary libraries"
   ]
  },
  {
   "cell_type": "code",
   "execution_count": 1,
   "metadata": {
    "id": "219CEYUFVNZn"
   },
   "outputs": [],
   "source": [
    "# import the important packages\n",
    "import pandas as pd  # library used for data manipulation and analysis\n",
    "\n",
    "import numpy as np  # library used for working with arrays\n",
    "\n",
    "import matplotlib.pyplot as plt  # library for visualization\n",
    "\n",
    "import seaborn as sns  # library for visualization\n",
    "\n",
    "%matplotlib inline\n",
    "\n",
    "import scipy.stats as stats  # this library contains a large number of probability distributions as well as a growing library of statistical functions"
   ]
  },
  {
   "cell_type": "markdown",
   "metadata": {
    "id": "zwbR4fdpVNZp"
   },
   "source": [
    "# Binomial Distribution"
   ]
  },
  {
   "cell_type": "markdown",
   "metadata": {
    "id": "iLvUFh_6VNZp"
   },
   "source": [
    "### Q1. A LED bulb manufacturing company regularly conducts quality checks at specified periods on the products it manufactures.  Historically, the failure rate for LED light bulbs that the company manufactures is 5%. Suppose a random sample of 10 LED light bulbs is selected. Find the probability distribution for the defective bulbs and answer the following questions."
   ]
  },
  {
   "cell_type": "markdown",
   "metadata": {
    "id": "U8C34C7HVNZr"
   },
   "source": [
    "**a) What is the probability that none of the LED bulbs are defective?**"
   ]
  },
  {
   "cell_type": "code",
   "execution_count": 14,
   "metadata": {},
   "outputs": [
    {
     "data": {
      "text/plain": [
       "0.5987369392383789"
      ]
     },
     "execution_count": 14,
     "metadata": {},
     "output_type": "execute_result"
    }
   ],
   "source": [
    "from scipy.stats import binom \n",
    "\n",
    "p=0.05 #defective \n",
    "n=10 #sample size \n",
    "k=np.arange(0,10)\n",
    "\n",
    "binomial= binom.pmf(k=k, n=n, p=p)\n",
    "binomial[0] #9.765625000000091e-14"
   ]
  },
  {
   "cell_type": "code",
   "execution_count": 15,
   "metadata": {},
   "outputs": [
    {
     "data": {
      "text/plain": [
       "Text(0.5, 1.0, 'not defective')"
      ]
     },
     "execution_count": 15,
     "metadata": {},
     "output_type": "execute_result"
    },
    {
     "data": {
      "image/png": "[encoded data removed]",
      "text/plain": [
       "<Figure size 432x288 with 1 Axes>"
      ]
     },
     "metadata": {
      "needs_background": "light"
     },
     "output_type": "display_data"
    }
   ],
   "source": [
    "plt.bar(k, binomial)\n",
    "plt.title('not defective')"
   ]
  },
  {
   "cell_type": "markdown",
   "metadata": {
    "id": "siKk2kFfVNZs"
   },
   "source": [
    "**b) What is the probability that exactly one LED bulb is defective?**"
   ]
  },
  {
   "cell_type": "code",
   "execution_count": 17,
   "metadata": {},
   "outputs": [
    {
     "data": {
      "text/plain": [
       "0.31512470486230504"
      ]
     },
     "execution_count": 17,
     "metadata": {},
     "output_type": "execute_result"
    }
   ],
   "source": [
    "binomial= binom.pmf(k=k, n=n, p=0.05) #in this case p=defective=success\n",
    "binomial[1] #0.31512470486230504\n",
    "#plt.bar(k, binomial)\n",
    "#plt.title('Defective')"
   ]
  },
  {
   "cell_type": "markdown",
   "metadata": {
    "id": "sTKTp_VbVNZt"
   },
   "source": [
    "**c) What is the probability that two or fewer LED bulbs are defective?**"
   ]
  },
  {
   "cell_type": "markdown",
   "metadata": {
    "id": "_ETr7cSsVNZu"
   },
   "source": [
    "Hint: We need to calculate cumulative probability of two or fewer LED bulbs being defective."
   ]
  },
  {
   "cell_type": "code",
   "execution_count": 13,
   "metadata": {},
   "outputs": [
    {
     "data": {
      "text/plain": [
       "0.9884964426207031"
      ]
     },
     "execution_count": 13,
     "metadata": {},
     "output_type": "execute_result"
    }
   ],
   "source": [
    "cumulative_binomial = stats.binom.cdf(k,n,p)\n",
    "#0.9884964426207031 = 98.8%"
   ]
  },
  {
   "cell_type": "markdown",
   "metadata": {
    "id": "6D3d7vgNVNZv"
   },
   "source": [
    "**d) What is the probability that three or more LED bulbs are defective?**"
   ]
  },
  {
   "cell_type": "markdown",
   "metadata": {
    "id": "-EnDIeiTVNZv"
   },
   "source": [
    "Hint: We need to subtract the cumulative probability of up to 2 defective LED bulbs from 1."
   ]
  },
  {
   "cell_type": "code",
   "execution_count": 14,
   "metadata": {},
   "outputs": [
    {
     "data": {
      "text/plain": [
       "0.01150355737929687"
      ]
     },
     "execution_count": 14,
     "metadata": {},
     "output_type": "execute_result"
    }
   ],
   "source": [
    "1- binom.cdf(k=2, n=n, p=0.05)\n",
    "#0.01150355737929687 = 1.15%"
   ]
  },
  {
   "cell_type": "markdown",
   "metadata": {
    "id": "g7pg-lWiVNZx"
   },
   "source": [
    "### Q2. During an NBA game, a basketball player has two foul shots (free throw) and the conversion rate of free-throw shots is 93%. Find the following probabilities."
   ]
  },
  {
   "cell_type": "markdown",
   "metadata": {
    "id": "I1yejxesVNZx"
   },
   "source": [
    "**a) What is the probability that the player will convert both the shots?**"
   ]
  },
  {
   "cell_type": "code",
   "execution_count": 5,
   "metadata": {},
   "outputs": [
    {
     "data": {
      "text/plain": [
       "0.8649000000000001"
      ]
     },
     "execution_count": 5,
     "metadata": {},
     "output_type": "execute_result"
    }
   ],
   "source": [
    "from scipy.stats import binom \n",
    "k=np.arange(0,2)\n",
    "binom.pmf(k=2, n=2, p=0.93)\n",
    "#0.8649000000000001"
   ]
  },
  {
   "cell_type": "markdown",
   "metadata": {
    "id": "0R1FriOVVNZy"
   },
   "source": [
    "**b) What is the probability that the player will convert at least one shot?**"
   ]
  },
  {
   "cell_type": "code",
   "execution_count": 18,
   "metadata": {},
   "outputs": [
    {
     "data": {
      "text/plain": [
       "0.9951"
      ]
     },
     "execution_count": 18,
     "metadata": {},
     "output_type": "execute_result"
    }
   ],
   "source": [
    "1- binom.pmf(k=0, n=2, p=0.93)\n",
    "#0.1350999999999999"
   ]
  },
  {
   "cell_type": "markdown",
   "metadata": {
    "id": "jeGWrHJhabri"
   },
   "source": [
    "### Q3.\tOver a long period in a large multinomial corporation, 10% of all sales trainees rated as outstanding, 75% rated as excellent, 10% rated as satisfactory, and 5% are considered unsatisfactory. Find the following probabilities for a sample of 10 trainees selected at random."
   ]
  },
  {
   "cell_type": "markdown",
   "metadata": {
    "id": "f0-NPUBiVNaG"
   },
   "source": [
    "**a) Two are rated as outstanding**"
   ]
  },
  {
   "cell_type": "code",
   "execution_count": 19,
   "metadata": {},
   "outputs": [
    {
     "data": {
      "text/plain": [
       "0.19371024450000005"
      ]
     },
     "execution_count": 19,
     "metadata": {},
     "output_type": "execute_result"
    }
   ],
   "source": [
    "from scipy.stats import binom \n",
    "\n",
    "binomial= binom.pmf(k=2,n=10,p=0.10)\n",
    "binomial\n",
    "#0.19371024450000005 -> 19%"
   ]
  },
  {
   "cell_type": "markdown",
   "metadata": {
    "id": "RZCEMFSrVNaG"
   },
   "source": [
    "**b) Two or more are rated as outstanding**"
   ]
  },
  {
   "cell_type": "code",
   "execution_count": 21,
   "metadata": {},
   "outputs": [
    {
     "data": {
      "text/plain": [
       "0.2639010708999998"
      ]
     },
     "execution_count": 21,
     "metadata": {},
     "output_type": "execute_result"
    }
   ],
   "source": [
    "#P(x>=2)\n",
    "1-binom.cdf(k=1,n=10,p=.10)\n",
    "# 7%"
   ]
  },
  {
   "cell_type": "markdown",
   "metadata": {
    "id": "u5_21Ab8VNaH"
   },
   "source": [
    "**c) Eight of the ten are rated either outstanding or excellent**"
   ]
  },
  {
   "cell_type": "code",
   "execution_count": 23,
   "metadata": {},
   "outputs": [
    {
     "name": "stdout",
     "output_type": "stream",
     "text": [
      "0.27589665660205087\n"
     ]
    }
   ],
   "source": [
    "binomial= binom.pmf(k=8,n=10,p=0.85)\n",
    "print(binomial)"
   ]
  },
  {
   "cell_type": "markdown",
   "metadata": {
    "id": "by_BuepFVNaH"
   },
   "source": [
    "**d) None of the trainees are rated as unsatisfactory**"
   ]
  },
  {
   "cell_type": "code",
   "execution_count": 13,
   "metadata": {},
   "outputs": [
    {
     "data": {
      "text/plain": [
       "0.5987369392383789"
      ]
     },
     "execution_count": 13,
     "metadata": {},
     "output_type": "execute_result"
    }
   ],
   "source": [
    "binomial= binom.pmf(k=0,n=n,p=0.05)\n",
    "binomial #59.87%"
   ]
  },
  {
   "cell_type": "markdown",
   "metadata": {},
   "source": [
    "# Uniform Distribution"
   ]
  },
  {
   "cell_type": "markdown",
   "metadata": {
    "id": "1-lP_U28aUuP"
   },
   "source": [
    "### Q4. A University records the time taken by students to solve the statistics assignment in 'assignment.csv’. Plot the probability distribution this data follows and answer the following questions."
   ]
  },
  {
   "cell_type": "code",
   "execution_count": 25,
   "metadata": {},
   "outputs": [],
   "source": [
    "import scipy.stats as stats\n",
    "from scipy.stats import uniform "
   ]
  },
  {
   "cell_type": "code",
   "execution_count": 46,
   "metadata": {},
   "outputs": [
    {
     "data": {
      "text/plain": [
       "<bound method DataFrame.info of      Student_ID  Time_taken\n",
       "0           955        2.79\n",
       "1           379        3.32\n",
       "2           922        1.35\n",
       "3           312        2.35\n",
       "4           670        1.98\n",
       "..          ...         ...\n",
       "995         258        2.38\n",
       "996         666        3.71\n",
       "997         398        2.44\n",
       "998          32        2.42\n",
       "999         980        2.79\n",
       "\n",
       "[1000 rows x 2 columns]>"
      ]
     },
     "execution_count": 46,
     "metadata": {},
     "output_type": "execute_result"
    }
   ],
   "source": [
    "data=pd.read_csv('assignment.csv')\n",
    "data.head(10)\n",
    "data.info"
   ]
  },
  {
   "cell_type": "code",
   "execution_count": 34,
   "metadata": {},
   "outputs": [
    {
     "data": {
      "text/plain": [
       "<matplotlib.lines.Line2D at 0x26f5db5df70>"
      ]
     },
     "execution_count": 34,
     "metadata": {},
     "output_type": "execute_result"
    },
    {
     "data": {
      "image/png": "[encoded data removed]",
      "text/plain": [
       "<Figure size 432x288 with 1 Axes>"
      ]
     },
     "metadata": {
      "needs_background": "light"
     },
     "output_type": "display_data"
    }
   ],
   "source": [
    "plt.hist(data['Time_taken'], density=True)\n",
    "plt.axhline(0.30, color='red')\n",
    "\n",
    "#histogram is a continuous function in this case "
   ]
  },
  {
   "cell_type": "code",
   "execution_count": 38,
   "metadata": {},
   "outputs": [
    {
     "data": {
      "text/plain": [
       "1.0"
      ]
     },
     "execution_count": 38,
     "metadata": {},
     "output_type": "execute_result"
    }
   ],
   "source": [
    "data['Time_taken'].max() #4\n",
    "data['Time_taken'].min() #1"
   ]
  },
  {
   "cell_type": "code",
   "execution_count": 47,
   "metadata": {},
   "outputs": [],
   "source": [
    "# use the uniform.pmf() function to generate the probability distribution\n",
    "x = np.linspace(1, 4, 50)\n",
    "probs = uniform.pdf(x, loc = 1, scale = 3)"
   ]
  },
  {
   "cell_type": "code",
   "execution_count": 35,
   "metadata": {},
   "outputs": [
    {
     "data": {
      "text/plain": [
       "<seaborn.axisgrid.FacetGrid at 0x26f5dbc9370>"
      ]
     },
     "execution_count": 35,
     "metadata": {},
     "output_type": "execute_result"
    },
    {
     "data": {
      "image/png": "[encoded data removed]",
      "text/plain": [
       "<Figure size 360x360 with 1 Axes>"
      ]
     },
     "metadata": {
      "needs_background": "light"
     },
     "output_type": "display_data"
    }
   ],
   "source": [
    "sns.displot(data['Time_taken'], kde=True)"
   ]
  },
  {
   "cell_type": "markdown",
   "metadata": {
    "id": "riMH9942kyzJ"
   },
   "source": [
    "**a) Find the probability that a randomly selected student requires at most 2.5 hours to complete the assignment.**"
   ]
  },
  {
   "cell_type": "markdown",
   "metadata": {},
   "source": [
    "**CDF:** of a random variable (X) is the probability that X will take the value less than or equal to x. It can be represented mathematically as below:\n",
    "\n",
    ">$F_X(x) = P(X\\leq x)$\n",
    "\n",
    "In our case, the random variable (X) is the number of hours.\n",
    "\n",
    "$ P(X\\leq 2.5)$"
   ]
  },
  {
   "cell_type": "code",
   "execution_count": 48,
   "metadata": {},
   "outputs": [
    {
     "data": {
      "text/plain": [
       "0.5"
      ]
     },
     "execution_count": 48,
     "metadata": {},
     "output_type": "execute_result"
    }
   ],
   "source": [
    "uniform.cdf(x=2.5, loc=1, scale=3) #0.5"
   ]
  },
  {
   "cell_type": "markdown",
   "metadata": {
    "id": "C3TVqrPQlt1h"
   },
   "source": [
    "**b) Find the probability that a randomly selected student requires at least 3 hours to complete the quiz.**\n",
    "\n",
    "$ P(X>=3)$"
   ]
  },
  {
   "cell_type": "code",
   "execution_count": 50,
   "metadata": {},
   "outputs": [
    {
     "data": {
      "text/plain": [
       "0.33333333333333337"
      ]
     },
     "execution_count": 50,
     "metadata": {},
     "output_type": "execute_result"
    }
   ],
   "source": [
    "1-uniform.cdf(x=3, loc=1, scale=3)"
   ]
  },
  {
   "cell_type": "markdown",
   "metadata": {
    "id": "ln66mUUsmad-"
   },
   "source": [
    "**c) Find the probability that a randomly selected student requires 1.5 to 3.5 hours to complete the quiz.**\n",
    "\n",
    "$ P(1.5<= X <=3.5)$"
   ]
  },
  {
   "cell_type": "code",
   "execution_count": 51,
   "metadata": {},
   "outputs": [
    {
     "data": {
      "text/plain": [
       "0.6666666666666667"
      ]
     },
     "execution_count": 51,
     "metadata": {},
     "output_type": "execute_result"
    }
   ],
   "source": [
    "uniform1=uniform.cdf(x=1.5, loc=1, scale=3) #0.125\n",
    "uniform2=uniform.cdf(x=3.5, loc=1, scale=3) #0.625\n",
    "uniform2-uniform1 #0.5"
   ]
  },
  {
   "cell_type": "markdown",
   "metadata": {
    "id": "xh7vsKOHVNZ8"
   },
   "source": [
    "# Normal Distribution"
   ]
  },
  {
   "cell_type": "markdown",
   "metadata": {
    "id": "yRiWnS4VabsT"
   },
   "source": [
    "### Q5. According to the Telecommunication Industry, the average monthly cell phone bill is Rs. 850 with a standard deviation of Rs. 150. Assuming that the monthly bill follows a normal distribution, answer the following questions."
   ]
  },
  {
   "cell_type": "markdown",
   "metadata": {
    "id": "MJ7wKYwvVNZ_"
   },
   "source": [
    "**a) What is the probability that a randomly selected cell phone bill is more than Rs 1200?**"
   ]
  },
  {
   "cell_type": "code",
   "execution_count": 54,
   "metadata": {},
   "outputs": [
    {
     "data": {
      "text/plain": [
       "0.009815328628645315"
      ]
     },
     "execution_count": 54,
     "metadata": {},
     "output_type": "execute_result"
    }
   ],
   "source": [
    "import scipy.stats as stats \n",
    "from scipy.stats import norm\n",
    "\n",
    "x_bar=850\n",
    "sd=150\n",
    "\n",
    "prob_1200=1- norm.cdf(1200, x_bar,sd)\n",
    "prob_1200"
   ]
  },
  {
   "cell_type": "markdown",
   "metadata": {
    "id": "1eoJzslRVNZ_"
   },
   "source": [
    "**b) What is the probability that a randomly selected cell phone bill is between Rs 750 and Rs 1200?**"
   ]
  },
  {
   "cell_type": "code",
   "execution_count": 56,
   "metadata": {},
   "outputs": [
    {
     "data": {
      "text/plain": [
       "0.7376921338244318"
      ]
     },
     "execution_count": 56,
     "metadata": {},
     "output_type": "execute_result"
    }
   ],
   "source": [
    "prob_750=norm.cdf(750, x_bar,sd)\n",
    "prob_1200= norm.cdf(1200, x_bar,sd)\n",
    "\n",
    "prob=prob_1200- prob_750\n",
    "prob"
   ]
  },
  {
   "cell_type": "markdown",
   "metadata": {
    "id": "tGxBocT6VNZ_"
   },
   "source": [
    "**c) What is the probability that a randomly selected cell phone bill is no more than Rs 650?**"
   ]
  },
  {
   "cell_type": "code",
   "execution_count": 58,
   "metadata": {},
   "outputs": [
    {
     "data": {
      "text/plain": [
       "0.09121121972586788"
      ]
     },
     "execution_count": 58,
     "metadata": {},
     "output_type": "execute_result"
    }
   ],
   "source": [
    "prob_650= norm.cdf(650, x_bar, sd)\n",
    "prob_650"
   ]
  },
  {
   "cell_type": "markdown",
   "metadata": {
    "id": "oFmIG_sqVNaA"
   },
   "source": [
    "**d) What is the amount above which lies the top 15% of cell phone bills?**"
   ]
  },
  {
   "cell_type": "code",
   "execution_count": 59,
   "metadata": {},
   "outputs": [
    {
     "data": {
      "text/plain": [
       "1005.4650084240685"
      ]
     },
     "execution_count": 59,
     "metadata": {},
     "output_type": "execute_result"
    }
   ],
   "source": [
    "norm.ppf(0.85, x_bar, sd)"
   ]
  },
  {
   "cell_type": "markdown",
   "metadata": {
    "id": "_lNAMUvvVNaA"
   },
   "source": [
    "**e) What is the amount below which lies the bottom 25% of cell phone bills?**"
   ]
  },
  {
   "cell_type": "code",
   "execution_count": 60,
   "metadata": {},
   "outputs": [
    {
     "data": {
      "text/plain": [
       "748.8265374705877"
      ]
     },
     "execution_count": 60,
     "metadata": {},
     "output_type": "execute_result"
    }
   ],
   "source": [
    "norm.ppf(0.25, x_bar, sd)"
   ]
  },
  {
   "cell_type": "markdown",
   "metadata": {
    "id": "QmtfulFDVNaH"
   },
   "source": [
    "### Q6. The mean filling capacity for a coke bottle is 500 ml with a standard deviation of 20 ml. Assume that it follows a normal distribution and answer the following questions."
   ]
  },
  {
   "cell_type": "markdown",
   "metadata": {
    "id": "ak4RyMGVVNaI"
   },
   "source": [
    "**a) What is the probability that the bottle filled less than 480 ml?**"
   ]
  },
  {
   "cell_type": "code",
   "execution_count": 62,
   "metadata": {},
   "outputs": [
    {
     "data": {
      "text/plain": [
       "0.15865525393145707"
      ]
     },
     "execution_count": 62,
     "metadata": {},
     "output_type": "execute_result"
    }
   ],
   "source": [
    "mu=500\n",
    "sd=20 \n",
    "x1=480\n",
    "z1=(x1-mu)/sd\n",
    "norm.cdf(z1)"
   ]
  },
  {
   "cell_type": "markdown",
   "metadata": {
    "id": "ILDdv_5fVNaI"
   },
   "source": [
    "**b) What is the probability that the bottle filled more than 520 ml?**"
   ]
  },
  {
   "cell_type": "code",
   "execution_count": 63,
   "metadata": {},
   "outputs": [
    {
     "data": {
      "text/plain": [
       "0.15865525393145707"
      ]
     },
     "execution_count": 63,
     "metadata": {},
     "output_type": "execute_result"
    }
   ],
   "source": [
    "mu=500\n",
    "sd=20 \n",
    "x1=520\n",
    "z2=(x1-mu)/sd\n",
    "1-norm.cdf(z2)"
   ]
  },
  {
   "cell_type": "markdown",
   "metadata": {
    "id": "GDGLNR7dVNaJ"
   },
   "source": [
    "**c) What is the probability that the bottle filled between 470 ml to 525 ml?**"
   ]
  },
  {
   "cell_type": "code",
   "execution_count": 64,
   "metadata": {},
   "outputs": [
    {
     "data": {
      "text/plain": [
       "0.8275430250642866"
      ]
     },
     "execution_count": 64,
     "metadata": {},
     "output_type": "execute_result"
    }
   ],
   "source": [
    "mu=500\n",
    "sd=20 \n",
    "x1=470\n",
    "z1=(x1-mu)/sd\n",
    "prob1=norm.cdf(z1)\n",
    "\n",
    "x2=525\n",
    "z2=(x2-mu)/sd\n",
    "prob2=norm.cdf(z2)\n",
    "\n",
    "prob2-prob1\n"
   ]
  },
  {
   "cell_type": "markdown",
   "metadata": {
    "id": "7WFVLPL-VNaM"
   },
   "source": [
    "### Q7. In 2 Liter soft drink bottles, the drink filled is normally distributed, with a mean of 2.0 liters and a standard deviation of 0.05 liter. If bottles contain less than 95% of the listed net content (1.90 liters), the manufacturer may be subject to penalty by the state office of consumer affairs. Bottles that have a net quantity above 2.1 liters may cause excess spillage upon opening. Answer the following questions."
   ]
  },
  {
   "cell_type": "markdown",
   "metadata": {
    "id": "KJh8EodMVNaM"
   },
   "source": [
    "**a) What is the probability that the bottle content is between 1.9 and 2.0 liters?**"
   ]
  },
  {
   "cell_type": "code",
   "execution_count": 65,
   "metadata": {},
   "outputs": [
    {
     "data": {
      "text/plain": [
       "0.4772498680518209"
      ]
     },
     "execution_count": 65,
     "metadata": {},
     "output_type": "execute_result"
    }
   ],
   "source": [
    "mu=2\n",
    "sd=0.05\n",
    "\n",
    "x1=1.9\n",
    "z1=(x1-mu)/sd\n",
    "p1=norm.cdf(z1)\n",
    "\n",
    "x2=2\n",
    "z2=(x2-mu)/sd\n",
    "p2=norm.cdf(z2)\n",
    "\n",
    "p2-p1"
   ]
  },
  {
   "cell_type": "markdown",
   "metadata": {
    "id": "hZhrsYtoVNaN"
   },
   "source": [
    "**b) What is the probability that the bottle content is between 1.9 and 2.1 liters?**"
   ]
  },
  {
   "cell_type": "code",
   "execution_count": 66,
   "metadata": {},
   "outputs": [
    {
     "data": {
      "text/plain": [
       "0.9544997361036418"
      ]
     },
     "execution_count": 66,
     "metadata": {},
     "output_type": "execute_result"
    }
   ],
   "source": [
    "x1=1.9\n",
    "z1=(x1-mu)/sd\n",
    "p1=norm.cdf(z1)\n",
    "\n",
    "x2=2.1\n",
    "z2=(x2-mu)/sd\n",
    "p2=norm.cdf(z2)\n",
    "\n",
    "p2-p1"
   ]
  },
  {
   "cell_type": "markdown",
   "metadata": {
    "id": "H6fG71TVVNaN"
   },
   "source": [
    "**c) What is the probability that the bottle content is below 1.9 liters or above 2.1 liters?**"
   ]
  },
  {
   "cell_type": "code",
   "execution_count": 70,
   "metadata": {},
   "outputs": [
    {
     "name": "stdout",
     "output_type": "stream",
     "text": [
      "0.045500263896358195\n"
     ]
    }
   ],
   "source": [
    "x1=1.9\n",
    "z1=(x1-mu)/sd\n",
    "p1=norm.cdf(z1)\n",
    "\n",
    "x2=2.1\n",
    "z2=(x2-mu)/sd\n",
    "p2=1-norm.cdf(z2)\n",
    "\n",
    "print(p1+p2)"
   ]
  },
  {
   "cell_type": "markdown",
   "metadata": {
    "id": "Qc1CMY6PVNaO"
   },
   "source": [
    "**d) 99% of the bottles contain at least what amount of soft drink in them?**"
   ]
  },
  {
   "cell_type": "code",
   "execution_count": 72,
   "metadata": {},
   "outputs": [
    {
     "data": {
      "text/plain": [
       "1.883682606297958"
      ]
     },
     "execution_count": 72,
     "metadata": {},
     "output_type": "execute_result"
    }
   ],
   "source": [
    "norm.ppf(0.01, mu, sd)"
   ]
  },
  {
   "cell_type": "markdown",
   "metadata": {
    "id": "cfuKFTnCDTeA"
   },
   "source": [
    "# Sampling Distribution"
   ]
  },
  {
   "cell_type": "markdown",
   "metadata": {
    "id": "azEQu4DoC_Q5"
   },
   "source": [
    "### Q8. Suppose an automobile battery manufacturer claims that the mean lifetime of their battery is 60 months with a standard deviation of 6 months. Suppose the distribution of battery life is approximately normal. Find the probability that the mean lifetime of 40 randomly sampled batteries will be less than 58 months."
   ]
  },
  {
   "cell_type": "code",
   "execution_count": 75,
   "metadata": {},
   "outputs": [
    {
     "data": {
      "text/plain": [
       "0.0175"
      ]
     },
     "execution_count": 75,
     "metadata": {},
     "output_type": "execute_result"
    }
   ],
   "source": [
    "mu=60\n",
    "sigma=6 \n",
    "n=40\n",
    "x_bar= 58\n",
    "s = sigma/np.sqrt(40)\n",
    "\n",
    "round(norm.cdf(58, loc = mu, scale = s), 4)"
   ]
  },
  {
   "cell_type": "markdown",
   "metadata": {
    "id": "1TFwIVHqBR8O"
   },
   "source": [
    "# Interval Estimation"
   ]
  },
  {
   "cell_type": "markdown",
   "metadata": {
    "id": "hyfZcgYs_LMD"
   },
   "source": [
    "### Q9. A random sample of 40 households was selected as part of a study on electricity usage, and the number of kilowatt-hours (kWh) was recorded for each household in the sample for the first quarter of 2020. The average usage was found to be 310 kWh. In a very large study in the first quarter of the previous year, it was found that the standard deviation of the usage was 89 kWh.\n",
    "\n",
    "### Assuming the standard deviation is unchanged and that the usage is normally distributed, provide an expression for calculating a 95% confidence interval for the mean usage in the first quarter of 2019. "
   ]
  },
  {
   "cell_type": "code",
   "execution_count": 76,
   "metadata": {},
   "outputs": [
    {
     "data": {
      "text/plain": [
       "array([282.42, 337.58])"
      ]
     },
     "execution_count": 76,
     "metadata": {},
     "output_type": "execute_result"
    }
   ],
   "source": [
    "x_bar=310\n",
    "sigma=89\n",
    "n=40\n",
    "np.round(norm.interval(0.95, loc=x_bar, scale=sigma/np.sqrt(n)),2)"
   ]
  }
 ],
 "metadata": {
  "colab": {
   "collapsed_sections": [
    "g7pg-lWiVNZx",
    "l46Ul-hMd7DD"
   ],
   "name": "Practice_exercise -1 (1).ipynb",
   "provenance": []
  },
  "kernelspec": {
   "display_name": "Python 3",
   "language": "python",
   "name": "python3"
  },
  "language_info": {
   "codemirror_mode": {
    "name": "ipython",
    "version": 3
   },
   "file_extension": ".py",
   "mimetype": "text/x-python",
   "name": "python",
   "nbconvert_exporter": "python",
   "pygments_lexer": "ipython3",
   "version": "3.8.8"
  }
 },
 "nbformat": 4,
 "nbformat_minor": 1
}
